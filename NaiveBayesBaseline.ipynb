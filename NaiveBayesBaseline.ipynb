{
  "nbformat": 4,
  "nbformat_minor": 0,
  "metadata": {
    "colab": {
      "name": "NaiveBayesBaseline.ipynb",
      "provenance": [],
      "collapsed_sections": []
    },
    "kernelspec": {
      "name": "python3",
      "display_name": "Python 3"
    }
  },
  "cells": [
    {
      "cell_type": "markdown",
      "metadata": {
        "id": "d3ZQ9u2fozg0",
        "colab_type": "text"
      },
      "source": [
        "# NaiveBayesBaseline"
      ]
    },
    {
      "cell_type": "markdown",
      "metadata": {
        "id": "PgtQiokIolaW",
        "colab_type": "text"
      },
      "source": [
        "### 230T2 - Megha Raveendran, Renee Reynolds, Derui Chen, Loïc Diridollou, Shiva Kandi"
      ]
    },
    {
      "cell_type": "code",
      "metadata": {
        "id": "Q36FlQje6bJ3",
        "colab_type": "code",
        "colab": {}
      },
      "source": [
        "import os\n",
        "from tqdm import tqdm\n",
        "import numpy as np\n",
        "import pandas as pd\n",
        "import matplotlib.pyplot as plt\n",
        "from sklearn.model_selection import train_test_split\n",
        "from sklearn.linear_model import LogisticRegression\n",
        "from sklearn.metrics import confusion_matrix\n",
        "# from google.colab import files, drive\n",
        "import string\n",
        "import datetime as dt"
      ],
      "execution_count": null,
      "outputs": []
    },
    {
      "cell_type": "code",
      "metadata": {
        "id": "rGVk0FMK9bUB",
        "colab_type": "code",
        "colab": {
          "base_uri": "https://localhost:8080/",
          "height": 53
        },
        "outputId": "01ca39c0-fb37-4c1d-a17e-0f400c67b2e4"
      },
      "source": [
        "import re\n",
        "import nltk\n",
        "import spacy\n",
        "import string\n",
        "from collections import Counter\n",
        "\n",
        "from nltk.corpus import stopwords\n",
        "nltk_stopwords = nltk.download('stopwords')\n",
        "from nltk.stem.porter import PorterStemmer\n",
        "from nltk.stem import WordNetLemmatizer"
      ],
      "execution_count": null,
      "outputs": [
        {
          "output_type": "stream",
          "text": [
            "[nltk_data] Downloading package stopwords to /root/nltk_data...\n",
            "[nltk_data]   Unzipping corpora/stopwords.zip.\n"
          ],
          "name": "stdout"
        }
      ]
    },
    {
      "cell_type": "code",
      "metadata": {
        "id": "e6oLn5GX8NKb",
        "colab_type": "code",
        "colab": {}
      },
      "source": [
        "def text_preprocessing(text):\n",
        "    \"\"\"\n",
        "    - Remove entity mentions (eg. '@united')\n",
        "    - Correct errors (eg. '&amp;' to '&')\n",
        "    @param    text (str): a string to be processed.\n",
        "    @return   text (Str): the processed string.\n",
        "    \"\"\"\n",
        "    # Remove '@name'\n",
        "    text = re.sub(r'(@.*?)[\\s]', ' ', text)\n",
        "\n",
        "    # Replace '&amp;' with '&'\n",
        "    text = re.sub(r'&amp;', '&', text)\n",
        "\n",
        "    # Remove trailing whitespace\n",
        "    text = re.sub(r'\\s+', ' ', text).strip()\n",
        "\n",
        "    return text"
      ],
      "execution_count": null,
      "outputs": []
    },
    {
      "cell_type": "markdown",
      "metadata": {
        "id": "8wx6prBzh1P2",
        "colab_type": "text"
      },
      "source": [
        "# read and process news data"
      ]
    },
    {
      "cell_type": "code",
      "metadata": {
        "id": "THel2JEk8aHH",
        "colab_type": "code",
        "colab": {
          "base_uri": "https://localhost:8080/",
          "height": 35
        },
        "outputId": "b893c888-7a2b-47ff-b0ec-d3f16c8f9012"
      },
      "source": [
        "# drive.mount('/content/drive')\n",
        "# path = \"/content/drive/My Drive/data/\"\n",
        "path = \"data\\\\\"\n",
        "new_df = pd.read_csv(path+\"list_titles.csv\")"
      ],
      "execution_count": null,
      "outputs": [
        {
          "output_type": "stream",
          "text": [
            "Mounted at /content/drive\n"
          ],
          "name": "stdout"
        }
      ]
    },
    {
      "cell_type": "code",
      "metadata": {
        "id": "wYsB9TYD9BXd",
        "colab_type": "code",
        "colab": {
          "base_uri": "https://localhost:8080/",
          "height": 204
        },
        "outputId": "abe4e16b-1798-430c-c6a7-c3363d1c7a51"
      },
      "source": [
        "new_df.drop('Unnamed: 0', axis = 1, inplace = True)\n",
        "display(new_df.head())"
      ],
      "execution_count": null,
      "outputs": [
        {
          "output_type": "display_data",
          "data": {
            "text/html": [
              "<div>\n",
              "<style scoped>\n",
              "    .dataframe tbody tr th:only-of-type {\n",
              "        vertical-align: middle;\n",
              "    }\n",
              "\n",
              "    .dataframe tbody tr th {\n",
              "        vertical-align: top;\n",
              "    }\n",
              "\n",
              "    .dataframe thead th {\n",
              "        text-align: right;\n",
              "    }\n",
              "</style>\n",
              "<table border=\"1\" class=\"dataframe\">\n",
              "  <thead>\n",
              "    <tr style=\"text-align: right;\">\n",
              "      <th></th>\n",
              "      <th>Date</th>\n",
              "      <th>Title</th>\n",
              "      <th>Return</th>\n",
              "    </tr>\n",
              "  </thead>\n",
              "  <tbody>\n",
              "    <tr>\n",
              "      <th>0</th>\n",
              "      <td>2006-10-20</td>\n",
              "      <td>Exxon Mobil offers plan to end Alaska dispute</td>\n",
              "      <td>0.0012</td>\n",
              "    </tr>\n",
              "    <tr>\n",
              "      <th>1</th>\n",
              "      <td>2006-10-20</td>\n",
              "      <td>Hey buddy, can you spare $600 for a Google sh...</td>\n",
              "      <td>0.0012</td>\n",
              "    </tr>\n",
              "    <tr>\n",
              "      <th>2</th>\n",
              "      <td>2006-10-21</td>\n",
              "      <td>AOL CEO says sales may shrink for two years -...</td>\n",
              "      <td>0.0000</td>\n",
              "    </tr>\n",
              "    <tr>\n",
              "      <th>3</th>\n",
              "      <td>2006-10-22</td>\n",
              "      <td>Fed to keep hawkish tone, hold rates steady</td>\n",
              "      <td>0.0000</td>\n",
              "    </tr>\n",
              "    <tr>\n",
              "      <th>4</th>\n",
              "      <td>2006-10-22</td>\n",
              "      <td>Pluspetrol says losing $2.4 mln/day in Peru p...</td>\n",
              "      <td>0.0000</td>\n",
              "    </tr>\n",
              "  </tbody>\n",
              "</table>\n",
              "</div>"
            ],
            "text/plain": [
              "         Date                                              Title  Return\n",
              "0  2006-10-20     Exxon Mobil offers plan to end Alaska dispute   0.0012\n",
              "1  2006-10-20   Hey buddy, can you spare $600 for a Google sh...  0.0012\n",
              "2  2006-10-21   AOL CEO says sales may shrink for two years -...  0.0000\n",
              "3  2006-10-22       Fed to keep hawkish tone, hold rates steady   0.0000\n",
              "4  2006-10-22   Pluspetrol says losing $2.4 mln/day in Peru p...  0.0000"
            ]
          },
          "metadata": {
            "tags": []
          }
        }
      ]
    },
    {
      "cell_type": "code",
      "metadata": {
        "id": "qsetkpvYL6KE",
        "colab_type": "code",
        "colab": {
          "base_uri": "https://localhost:8080/",
          "height": 35
        },
        "outputId": "66bb3cdf-0b6b-4afd-c4a6-2568e1321ead"
      },
      "source": [
        "# percentage of positive observations\n",
        "Return = new_df.Return\n",
        "return_pos = Return[Return>0]\n",
        "1 - len(return_pos)/len(Return)"
      ],
      "execution_count": null,
      "outputs": [
        {
          "output_type": "execute_result",
          "data": {
            "text/plain": [
              "0.5220865438051037"
            ]
          },
          "metadata": {
            "tags": []
          },
          "execution_count": 6
        }
      ]
    },
    {
      "cell_type": "code",
      "metadata": {
        "id": "qgqVJ1vE87bY",
        "colab_type": "code",
        "colab": {
          "base_uri": "https://localhost:8080/",
          "height": 204
        },
        "outputId": "5cd5b733-dc24-4a6e-ba1d-b39d0d10f206"
      },
      "source": [
        "def preprocessing_text(df):\n",
        "  df = df.copy()\n",
        "  df.rename({\"Title\": \"text\"}, axis=1, inplace=True)\n",
        "\n",
        "  # lower string\n",
        "  df[\"text\"] = df[\"text\"].str.lower()\n",
        "\n",
        "  # Removal of punctuation\n",
        "  PUNCT_TO_REMOVE = string.punctuation\n",
        "  def remove_punctuation(text):\n",
        "      \"\"\"custom function to remove the punctuation\"\"\"\n",
        "      return text.translate(str.maketrans('', '', PUNCT_TO_REMOVE))\n",
        "\n",
        "  df[\"text\"] = df[\"text\"].apply(lambda text: remove_punctuation(text))\n",
        "\n",
        "  # Removal of stopwords\n",
        "  STOPWORDS = set(stopwords.words('english'))\n",
        "  def remove_stopwords(text):\n",
        "      \"\"\"custom function to remove the stopwords\"\"\"\n",
        "      return \" \".join([word for word in str(text).split() if word not in STOPWORDS])\n",
        "  df[\"text\"] = df[\"text\"].apply(lambda text: remove_stopwords(text))\n",
        "\n",
        "  # Removal of infrequent words\n",
        "  cnt = Counter()\n",
        "  FREQWORDS = set([w for (w, wc) in cnt.most_common(10)])\n",
        "  def remove_freqwords(text):\n",
        "      \"\"\"custom function to remove the frequent words\"\"\"\n",
        "      return \" \".join([word for word in str(text).split() if word not in FREQWORDS])\n",
        "\n",
        "  df[\"text\"] = df[\"text\"].apply(lambda text: remove_freqwords(text))\n",
        "\n",
        "  return df\n",
        "\n",
        "\n",
        "df = preprocessing_text(new_df)\n",
        "df.rename({\"Return\":\"label\"},axis=1,inplace=True)\n",
        "df[\"label\"] = np.sign(df[\"label\"])\n",
        "df[\"label\"].replace(-1.0, 0.0, inplace=True)\n",
        "display(df.head())"
      ],
      "execution_count": null,
      "outputs": [
        {
          "output_type": "display_data",
          "data": {
            "text/html": [
              "<div>\n",
              "<style scoped>\n",
              "    .dataframe tbody tr th:only-of-type {\n",
              "        vertical-align: middle;\n",
              "    }\n",
              "\n",
              "    .dataframe tbody tr th {\n",
              "        vertical-align: top;\n",
              "    }\n",
              "\n",
              "    .dataframe thead th {\n",
              "        text-align: right;\n",
              "    }\n",
              "</style>\n",
              "<table border=\"1\" class=\"dataframe\">\n",
              "  <thead>\n",
              "    <tr style=\"text-align: right;\">\n",
              "      <th></th>\n",
              "      <th>Date</th>\n",
              "      <th>text</th>\n",
              "      <th>label</th>\n",
              "    </tr>\n",
              "  </thead>\n",
              "  <tbody>\n",
              "    <tr>\n",
              "      <th>0</th>\n",
              "      <td>2006-10-20</td>\n",
              "      <td>exxon mobil offers plan end alaska dispute</td>\n",
              "      <td>1.0</td>\n",
              "    </tr>\n",
              "    <tr>\n",
              "      <th>1</th>\n",
              "      <td>2006-10-20</td>\n",
              "      <td>hey buddy spare 600 google share</td>\n",
              "      <td>1.0</td>\n",
              "    </tr>\n",
              "    <tr>\n",
              "      <th>2</th>\n",
              "      <td>2006-10-21</td>\n",
              "      <td>aol ceo says sales may shrink two years paper</td>\n",
              "      <td>0.0</td>\n",
              "    </tr>\n",
              "    <tr>\n",
              "      <th>3</th>\n",
              "      <td>2006-10-22</td>\n",
              "      <td>fed keep hawkish tone hold rates steady</td>\n",
              "      <td>0.0</td>\n",
              "    </tr>\n",
              "    <tr>\n",
              "      <th>4</th>\n",
              "      <td>2006-10-22</td>\n",
              "      <td>pluspetrol says losing 24 mlnday peru protest</td>\n",
              "      <td>0.0</td>\n",
              "    </tr>\n",
              "  </tbody>\n",
              "</table>\n",
              "</div>"
            ],
            "text/plain": [
              "         Date                                           text  label\n",
              "0  2006-10-20     exxon mobil offers plan end alaska dispute    1.0\n",
              "1  2006-10-20               hey buddy spare 600 google share    1.0\n",
              "2  2006-10-21  aol ceo says sales may shrink two years paper    0.0\n",
              "3  2006-10-22        fed keep hawkish tone hold rates steady    0.0\n",
              "4  2006-10-22  pluspetrol says losing 24 mlnday peru protest    0.0"
            ]
          },
          "metadata": {
            "tags": []
          }
        }
      ]
    },
    {
      "cell_type": "code",
      "metadata": {
        "id": "Ar8t5umUmleP",
        "colab_type": "code",
        "colab": {}
      },
      "source": [
        "split_date = \"2012-01-01\"\n",
        "train_df = df[df[\"Date\"]<split_date]\n",
        "test_df = df[df[\"Date\"]>=split_date]\n",
        "X_train = train_df[\"text\"].values\n",
        "y_train = train_df[\"label\"].values\n",
        "X_val = test_df[\"text\"].values\n",
        "y_val = test_df[\"label\"].values"
      ],
      "execution_count": null,
      "outputs": []
    },
    {
      "cell_type": "code",
      "metadata": {
        "id": "DV5RB7GApgrO",
        "colab_type": "code",
        "colab": {
          "base_uri": "https://localhost:8080/",
          "height": 53
        },
        "outputId": "2c115bdb-37f4-4b63-dd08-a71d2bbe7769"
      },
      "source": [
        "print(train_df.shape)\n",
        "print(test_df.shape)"
      ],
      "execution_count": null,
      "outputs": [
        {
          "output_type": "stream",
          "text": [
            "(99955, 3)\n",
            "(33203, 3)\n"
          ],
          "name": "stdout"
        }
      ]
    },
    {
      "cell_type": "markdown",
      "metadata": {
        "id": "r-TYRM2Gkf99",
        "colab_type": "text"
      },
      "source": [
        "# Train Naive Bayes Classifier"
      ]
    },
    {
      "cell_type": "code",
      "metadata": {
        "id": "e9bUl75W9Q5b",
        "colab_type": "code",
        "colab": {}
      },
      "source": [
        "from sklearn.feature_extraction.text import TfidfVectorizer\n",
        "# Preprocess text\n",
        "X_train_preprocessed = np.array([text_preprocessing(text) for text in X_train])\n",
        "X_val_preprocessed = np.array([text_preprocessing(text) for text in X_val])\n",
        "\n",
        "\n",
        "# Calculate TF-IDF\n",
        "tf_idf = TfidfVectorizer(ngram_range=(1, 3),\n",
        "                         binary=True,\n",
        "                         smooth_idf=False)\n",
        "X_train_tfidf = tf_idf.fit_transform(X_train_preprocessed)\n",
        "X_val_tfidf = tf_idf.transform(X_val_preprocessed)"
      ],
      "execution_count": null,
      "outputs": []
    },
    {
      "cell_type": "code",
      "metadata": {
        "id": "v7lI0xadwiF0",
        "colab_type": "code",
        "colab": {
          "base_uri": "https://localhost:8080/",
          "height": 53
        },
        "outputId": "af346b9e-a300-4263-e460-5fdae44894be"
      },
      "source": [
        "X_train_tfidf.data"
      ],
      "execution_count": null,
      "outputs": [
        {
          "output_type": "execute_result",
          "data": {
            "text/plain": [
              "array([0.27640659, 0.27640659, 0.27640659, ..., 0.22521057, 0.2050562 ,\n",
              "       0.1923869 ])"
            ]
          },
          "metadata": {
            "tags": []
          },
          "execution_count": 12
        }
      ]
    },
    {
      "cell_type": "code",
      "metadata": {
        "id": "Nhi82CDVwD-O",
        "colab_type": "code",
        "colab": {
          "base_uri": "https://localhost:8080/",
          "height": 53
        },
        "outputId": "e892f696-a763-4181-d5ef-a3ec29dca718"
      },
      "source": [
        "X_train_tfidf.data"
      ],
      "execution_count": null,
      "outputs": [
        {
          "output_type": "execute_result",
          "data": {
            "text/plain": [
              "array([0.27640659, 0.27640659, 0.27640659, ..., 0.22521057, 0.2050562 ,\n",
              "       0.1923869 ])"
            ]
          },
          "metadata": {
            "tags": []
          },
          "execution_count": 13
        }
      ]
    },
    {
      "cell_type": "code",
      "metadata": {
        "id": "9JBnlb0b92Fi",
        "colab_type": "code",
        "colab": {}
      },
      "source": [
        "from sklearn.model_selection import StratifiedKFold, cross_val_score\n",
        "\n",
        "def get_auc_CV(model):\n",
        "    \"\"\"\n",
        "    Return the average AUC score from cross-validation.\n",
        "    \"\"\"\n",
        "    # Set KFold to shuffle data before the split\n",
        "    kf = StratifiedKFold(5, shuffle=True, random_state=1)\n",
        "\n",
        "    # Get AUC scores\n",
        "    auc = cross_val_score(\n",
        "        model, X_train_tfidf, y_train, scoring=\"roc_auc\", cv=kf)\n",
        "\n",
        "    return auc.mean()"
      ],
      "execution_count": null,
      "outputs": []
    },
    {
      "cell_type": "code",
      "metadata": {
        "id": "SoCfWJWY92H2",
        "colab_type": "code",
        "colab": {
          "base_uri": "https://localhost:8080/",
          "height": 313
        },
        "outputId": "b2732b00-327b-40ef-e991-59f602d6c7d1"
      },
      "source": [
        "from sklearn.naive_bayes import MultinomialNB\n",
        "\n",
        "res = pd.Series([get_auc_CV(MultinomialNB(i))\n",
        "                 for i in np.arange(1.0, 10, 0.1)],\n",
        "                index=np.arange(1.0, 10, 0.1))\n",
        "\n",
        "best_alpha = np.round(res.idxmax(), 2)\n",
        "print('Best alpha: ', best_alpha)\n",
        "\n",
        "plt.plot(res)\n",
        "plt.title('AUC vs. Alpha')\n",
        "plt.xlabel('Alpha')\n",
        "plt.ylabel('AUC')\n",
        "plt.show()"
      ],
      "execution_count": null,
      "outputs": [
        {
          "output_type": "stream",
          "text": [
            "Best alpha:  1.0\n"
          ],
          "name": "stdout"
        },
        {
          "output_type": "display_data",
          "data": {
            "image/png": "[encoded data removed]",
            "text/plain": [
              "<Figure size 432x288 with 1 Axes>"
            ]
          },
          "metadata": {
            "tags": [],
            "needs_background": "light"
          }
        }
      ]
    },
    {
      "cell_type": "code",
      "metadata": {
        "id": "I23E81-h92Ke",
        "colab_type": "code",
        "colab": {}
      },
      "source": [
        "from sklearn.metrics import accuracy_score, roc_curve, auc\n",
        "\n",
        "def evaluate_roc(probs, y_true):\n",
        "    \"\"\"\n",
        "    - Print AUC and accuracy on the test set\n",
        "    - Plot ROC\n",
        "    @params    probs (np.array): an array of predicted probabilities with shape (len(y_true), 2)\n",
        "    @params    y_true (np.array): an array of the true values with shape (len(y_true),)\n",
        "    \"\"\"\n",
        "    preds = probs[:, 1]\n",
        "    fpr, tpr, threshold = roc_curve(y_true, preds)\n",
        "    roc_auc = auc(fpr, tpr)\n",
        "    print(f'AUC: {roc_auc:.4f}')\n",
        "       \n",
        "    # Get accuracy over the test set\n",
        "    y_pred = np.where(preds >= 0.5, 1, 0)\n",
        "    accuracy = accuracy_score(y_true, y_pred)\n",
        "    print(f'Accuracy: {accuracy*100:.2f}%')\n",
        "    \n",
        "    # Plot ROC AUC\n",
        "    plt.title('Receiver Operating Characteristic')\n",
        "    plt.plot(fpr, tpr, 'b', label = 'AUC = %0.2f' % roc_auc)\n",
        "    plt.legend(loc = 'lower right')\n",
        "    plt.plot([0, 1], [0, 1],'r--')\n",
        "    plt.xlim([0, 1])\n",
        "    plt.ylim([0, 1])\n",
        "    plt.ylabel('True Positive Rate')\n",
        "    plt.xlabel('False Positive Rate')\n",
        "    plt.show()"
      ],
      "execution_count": null,
      "outputs": []
    },
    {
      "cell_type": "code",
      "metadata": {
        "id": "9RmMwc4g92O2",
        "colab_type": "code",
        "colab": {
          "base_uri": "https://localhost:8080/",
          "height": 331
        },
        "outputId": "852894eb-e34d-4bce-ced8-7160ae28a1a7"
      },
      "source": [
        "# Compute predicted probabilities\n",
        "nb_model = MultinomialNB(alpha=1.0)\n",
        "nb_model.fit(X_train_tfidf, y_train)\n",
        "probs = nb_model.predict_proba(X_val_tfidf)\n",
        "ypred = nb_model.predict(X_val_tfidf)\n",
        "# Evaluate the classifier\n",
        "evaluate_roc(probs, y_val)"
      ],
      "execution_count": null,
      "outputs": [
        {
          "output_type": "stream",
          "text": [
            "AUC: 0.5362\n",
            "Accuracy: 52.86%\n"
          ],
          "name": "stdout"
        },
        {
          "output_type": "display_data",
          "data": {
            "image/png": "[encoded data removed]",
            "text/plain": [
              "<Figure size 432x288 with 1 Axes>"
            ]
          },
          "metadata": {
            "tags": [],
            "needs_background": "light"
          }
        }
      ]
    },
    {
      "cell_type": "markdown",
      "metadata": {
        "id": "bT4h22fik171",
        "colab_type": "text"
      },
      "source": [
        "# Evaluate Correlation"
      ]
    },
    {
      "cell_type": "code",
      "metadata": {
        "id": "vVRML1SjqQfF",
        "colab_type": "code",
        "colab": {}
      },
      "source": [
        "temperature_data = pd.read_csv(path+\"temperature_random_data.csv\") \n",
        "temperature_data = temperature_data[temperature_data[\"Date\"]>=split_date]"
      ],
      "execution_count": null,
      "outputs": []
    },
    {
      "cell_type": "code",
      "metadata": {
        "id": "LCEvgjXtLltM",
        "colab_type": "code",
        "colab": {}
      },
      "source": [
        "ret_data = pd.read_csv(path+\"list_titles_new.csv\")\n",
        "ret_data = ret_data[ret_data[\"Date\"]>=split_date]\n",
        "ret_data = ret_data.groupby(\"Date\")[\"Return\"].first()"
      ],
      "execution_count": null,
      "outputs": []
    },
    {
      "cell_type": "code",
      "metadata": {
        "id": "XXnC4ZwDsqUq",
        "colab_type": "code",
        "colab": {}
      },
      "source": [
        "probs_df = pd.DataFrame(probs[:,1], index=test_df[\"Date\"])\n",
        "probs_df[\"Date\"] = probs_df.index\n",
        "probs_df.index = range(len(probs_df))\n",
        "probs_df = probs_df.groupby(\"Date\").mean()\n",
        "probs_df.columns = [\"NaiveBayes\"]\n",
        "temperature_data.set_index('Date', inplace=True)"
      ],
      "execution_count": null,
      "outputs": []
    },
    {
      "cell_type": "code",
      "metadata": {
        "id": "zXgJp1YltalS",
        "colab_type": "code",
        "colab": {}
      },
      "source": [
        "temperature_data = pd.concat([temperature_data, probs_df, ret_data],axis=1)\n",
        "temperature_data.rename({\"temp_max\":\"temperature_max\", \"temp_min\":\"temperature_min\",\"feels_like\":\"temperature_feels_like\"},axis=1,inplace=True)"
      ],
      "execution_count": null,
      "outputs": []
    },
    {
      "cell_type": "code",
      "metadata": {
        "id": "iU6h__j6txHs",
        "colab_type": "code",
        "colab": {
          "base_uri": "https://localhost:8080/",
          "height": 518
        },
        "outputId": "5935c4ad-e1ce-4e51-a53b-eec20a85154a"
      },
      "source": [
        "corr_result = temperature_data.drop(\"Return\",axis=1).corr()[\"Close\"].to_frame().T[[\"temperature_max\",\"temperature_min\",\"temperature_feels_like\",\"uniform\",\"normal\",\"NaiveBayes\"]]\n",
        "corr_result.index = [\"correlation\"]\n",
        "plt.figure(figsize=(12,4))\n",
        "plt.bar([\"temperature_max\",\"temperature_min\",\"temperature_feels_like\",\"uniform\",\"normal\",\"NaiveBayes\"],corr_result.values.reshape((6)),width=0.3)\n",
        "display(corr_result.T)\n",
        "plt.grid()\n",
        "plt.title(\"correlation with S&P500 Close\")"
      ],
      "execution_count": null,
      "outputs": [
        {
          "output_type": "display_data",
          "data": {
            "text/html": [
              "<div>\n",
              "<style scoped>\n",
              "    .dataframe tbody tr th:only-of-type {\n",
              "        vertical-align: middle;\n",
              "    }\n",
              "\n",
              "    .dataframe tbody tr th {\n",
              "        vertical-align: top;\n",
              "    }\n",
              "\n",
              "    .dataframe thead th {\n",
              "        text-align: right;\n",
              "    }\n",
              "</style>\n",
              "<table border=\"1\" class=\"dataframe\">\n",
              "  <thead>\n",
              "    <tr style=\"text-align: right;\">\n",
              "      <th></th>\n",
              "      <th>correlation</th>\n",
              "    </tr>\n",
              "  </thead>\n",
              "  <tbody>\n",
              "    <tr>\n",
              "      <th>temperature_max</th>\n",
              "      <td>0.165109</td>\n",
              "    </tr>\n",
              "    <tr>\n",
              "      <th>temperature_min</th>\n",
              "      <td>0.181668</td>\n",
              "    </tr>\n",
              "    <tr>\n",
              "      <th>temperature_feels_like</th>\n",
              "      <td>0.190742</td>\n",
              "    </tr>\n",
              "    <tr>\n",
              "      <th>uniform</th>\n",
              "      <td>-0.015761</td>\n",
              "    </tr>\n",
              "    <tr>\n",
              "      <th>normal</th>\n",
              "      <td>-0.055828</td>\n",
              "    </tr>\n",
              "    <tr>\n",
              "      <th>NaiveBayes</th>\n",
              "      <td>0.178732</td>\n",
              "    </tr>\n",
              "  </tbody>\n",
              "</table>\n",
              "</div>"
            ],
            "text/plain": [
              "                        correlation\n",
              "temperature_max            0.165109\n",
              "temperature_min            0.181668\n",
              "temperature_feels_like     0.190742\n",
              "uniform                   -0.015761\n",
              "normal                    -0.055828\n",
              "NaiveBayes                 0.178732"
            ]
          },
          "metadata": {
            "tags": []
          }
        },
        {
          "output_type": "execute_result",
          "data": {
            "text/plain": [
              "Text(0.5, 1.0, 'correlation with S&P500 Close')"
            ]
          },
          "metadata": {
            "tags": []
          },
          "execution_count": 24
        },
        {
          "output_type": "display_data",
          "data": {
            "image/png": "[encoded data removed]",
            "text/plain": [
              "<Figure size 864x288 with 1 Axes>"
            ]
          },
          "metadata": {
            "tags": [],
            "needs_background": "light"
          }
        }
      ]
    },
    {
      "cell_type": "code",
      "metadata": {
        "id": "v4F3uW3cMzQI",
        "colab_type": "code",
        "colab": {
          "base_uri": "https://localhost:8080/",
          "height": 450
        },
        "outputId": "7bc3c7f5-2bb2-40c8-8f47-a10ed98f7bfa"
      },
      "source": [
        "temperature_data"
      ],
      "execution_count": null,
      "outputs": [
        {
          "output_type": "execute_result",
          "data": {
            "text/html": [
              "<div>\n",
              "<style scoped>\n",
              "    .dataframe tbody tr th:only-of-type {\n",
              "        vertical-align: middle;\n",
              "    }\n",
              "\n",
              "    .dataframe tbody tr th {\n",
              "        vertical-align: top;\n",
              "    }\n",
              "\n",
              "    .dataframe thead th {\n",
              "        text-align: right;\n",
              "    }\n",
              "</style>\n",
              "<table border=\"1\" class=\"dataframe\">\n",
              "  <thead>\n",
              "    <tr style=\"text-align: right;\">\n",
              "      <th></th>\n",
              "      <th>temperature_max</th>\n",
              "      <th>temperature_min</th>\n",
              "      <th>temperature_feels_like</th>\n",
              "      <th>uniform</th>\n",
              "      <th>normal</th>\n",
              "      <th>Close</th>\n",
              "      <th>NaiveBayes</th>\n",
              "      <th>Return</th>\n",
              "    </tr>\n",
              "    <tr>\n",
              "      <th>Date</th>\n",
              "      <th></th>\n",
              "      <th></th>\n",
              "      <th></th>\n",
              "      <th></th>\n",
              "      <th></th>\n",
              "      <th></th>\n",
              "      <th></th>\n",
              "      <th></th>\n",
              "    </tr>\n",
              "  </thead>\n",
              "  <tbody>\n",
              "    <tr>\n",
              "      <th>2012-01-01</th>\n",
              "      <td>8.879583</td>\n",
              "      <td>6.509167</td>\n",
              "      <td>3.863333</td>\n",
              "      <td>0.695013</td>\n",
              "      <td>-1.067619</td>\n",
              "      <td>NaN</td>\n",
              "      <td>0.374830</td>\n",
              "      <td>0.000000</td>\n",
              "    </tr>\n",
              "    <tr>\n",
              "      <th>2012-01-02</th>\n",
              "      <td>6.485000</td>\n",
              "      <td>5.414167</td>\n",
              "      <td>0.019167</td>\n",
              "      <td>0.843003</td>\n",
              "      <td>-0.272822</td>\n",
              "      <td>NaN</td>\n",
              "      <td>0.419543</td>\n",
              "      <td>0.000000</td>\n",
              "    </tr>\n",
              "    <tr>\n",
              "      <th>2012-01-03</th>\n",
              "      <td>-0.054583</td>\n",
              "      <td>-1.797500</td>\n",
              "      <td>-7.614167</td>\n",
              "      <td>0.068779</td>\n",
              "      <td>0.601926</td>\n",
              "      <td>1277.060059</td>\n",
              "      <td>0.498606</td>\n",
              "      <td>0.015474</td>\n",
              "    </tr>\n",
              "    <tr>\n",
              "      <th>2012-01-04</th>\n",
              "      <td>-5.902500</td>\n",
              "      <td>-7.775000</td>\n",
              "      <td>-13.589167</td>\n",
              "      <td>0.186527</td>\n",
              "      <td>0.236402</td>\n",
              "      <td>1277.300049</td>\n",
              "      <td>0.474116</td>\n",
              "      <td>0.000188</td>\n",
              "    </tr>\n",
              "    <tr>\n",
              "      <th>2012-01-05</th>\n",
              "      <td>0.455833</td>\n",
              "      <td>-0.739167</td>\n",
              "      <td>-5.794583</td>\n",
              "      <td>0.834327</td>\n",
              "      <td>0.050278</td>\n",
              "      <td>1281.060059</td>\n",
              "      <td>0.463175</td>\n",
              "      <td>0.002944</td>\n",
              "    </tr>\n",
              "    <tr>\n",
              "      <th>...</th>\n",
              "      <td>...</td>\n",
              "      <td>...</td>\n",
              "      <td>...</td>\n",
              "      <td>...</td>\n",
              "      <td>...</td>\n",
              "      <td>...</td>\n",
              "      <td>...</td>\n",
              "      <td>...</td>\n",
              "    </tr>\n",
              "    <tr>\n",
              "      <th>2013-11-16</th>\n",
              "      <td>11.864000</td>\n",
              "      <td>7.786400</td>\n",
              "      <td>6.899200</td>\n",
              "      <td>0.279084</td>\n",
              "      <td>-2.270418</td>\n",
              "      <td>NaN</td>\n",
              "      <td>0.406851</td>\n",
              "      <td>0.000000</td>\n",
              "    </tr>\n",
              "    <tr>\n",
              "      <th>2013-11-17</th>\n",
              "      <td>13.737692</td>\n",
              "      <td>10.497308</td>\n",
              "      <td>10.786538</td>\n",
              "      <td>0.650183</td>\n",
              "      <td>0.114760</td>\n",
              "      <td>NaN</td>\n",
              "      <td>0.420146</td>\n",
              "      <td>0.000000</td>\n",
              "    </tr>\n",
              "    <tr>\n",
              "      <th>2013-11-18</th>\n",
              "      <td>17.090741</td>\n",
              "      <td>14.509259</td>\n",
              "      <td>13.642222</td>\n",
              "      <td>0.583966</td>\n",
              "      <td>-1.390420</td>\n",
              "      <td>1791.530029</td>\n",
              "      <td>0.449262</td>\n",
              "      <td>-0.003698</td>\n",
              "    </tr>\n",
              "    <tr>\n",
              "      <th>2013-11-19</th>\n",
              "      <td>9.780833</td>\n",
              "      <td>8.290833</td>\n",
              "      <td>3.179583</td>\n",
              "      <td>0.047161</td>\n",
              "      <td>-0.529362</td>\n",
              "      <td>1787.869995</td>\n",
              "      <td>0.444050</td>\n",
              "      <td>-0.002043</td>\n",
              "    </tr>\n",
              "    <tr>\n",
              "      <th>2013-11-20</th>\n",
              "      <td>4.077500</td>\n",
              "      <td>2.467500</td>\n",
              "      <td>-1.793333</td>\n",
              "      <td>0.470566</td>\n",
              "      <td>-0.322942</td>\n",
              "      <td>1781.369995</td>\n",
              "      <td>0.442052</td>\n",
              "      <td>-0.003636</td>\n",
              "    </tr>\n",
              "  </tbody>\n",
              "</table>\n",
              "<p>689 rows × 8 columns</p>\n",
              "</div>"
            ],
            "text/plain": [
              "            temperature_max  temperature_min  ...  NaiveBayes    Return\n",
              "Date                                          ...                      \n",
              "2012-01-01         8.879583         6.509167  ...    0.374830  0.000000\n",
              "2012-01-02         6.485000         5.414167  ...    0.419543  0.000000\n",
              "2012-01-03        -0.054583        -1.797500  ...    0.498606  0.015474\n",
              "2012-01-04        -5.902500        -7.775000  ...    0.474116  0.000188\n",
              "2012-01-05         0.455833        -0.739167  ...    0.463175  0.002944\n",
              "...                     ...              ...  ...         ...       ...\n",
              "2013-11-16        11.864000         7.786400  ...    0.406851  0.000000\n",
              "2013-11-17        13.737692        10.497308  ...    0.420146  0.000000\n",
              "2013-11-18        17.090741        14.509259  ...    0.449262 -0.003698\n",
              "2013-11-19         9.780833         8.290833  ...    0.444050 -0.002043\n",
              "2013-11-20         4.077500         2.467500  ...    0.442052 -0.003636\n",
              "\n",
              "[689 rows x 8 columns]"
            ]
          },
          "metadata": {
            "tags": []
          },
          "execution_count": 25
        }
      ]
    },
    {
      "cell_type": "code",
      "metadata": {
        "id": "Y9Z9kqAnMVQv",
        "colab_type": "code",
        "colab": {
          "base_uri": "https://localhost:8080/",
          "height": 518
        },
        "outputId": "fd0033df-7cdf-4eec-88dd-37a495e0d1d7"
      },
      "source": [
        "corr_result = temperature_data.drop(\"Close\",axis=1).corr()[\"Return\"].to_frame().T[[\"temperature_max\",\"temperature_min\",\"temperature_feels_like\",\"uniform\",\"normal\",\"NaiveBayes\"]]\n",
        "corr_result.index = [\"correlation\"]\n",
        "plt.figure(figsize=(12,4))\n",
        "plt.bar([\"temperature_max\",\"temperature_min\",\"temperature_feels_like\",\"uniform\",\"normal\",\"NaiveBayes\"],corr_result.values.reshape((6)),width=0.3)\n",
        "display(corr_result.T)\n",
        "plt.grid()\n",
        "plt.title(\"correlation with S&P500 Return\")"
      ],
      "execution_count": null,
      "outputs": [
        {
          "output_type": "display_data",
          "data": {
            "text/html": [
              "<div>\n",
              "<style scoped>\n",
              "    .dataframe tbody tr th:only-of-type {\n",
              "        vertical-align: middle;\n",
              "    }\n",
              "\n",
              "    .dataframe tbody tr th {\n",
              "        vertical-align: top;\n",
              "    }\n",
              "\n",
              "    .dataframe thead th {\n",
              "        text-align: right;\n",
              "    }\n",
              "</style>\n",
              "<table border=\"1\" class=\"dataframe\">\n",
              "  <thead>\n",
              "    <tr style=\"text-align: right;\">\n",
              "      <th></th>\n",
              "      <th>correlation</th>\n",
              "    </tr>\n",
              "  </thead>\n",
              "  <tbody>\n",
              "    <tr>\n",
              "      <th>temperature_max</th>\n",
              "      <td>-0.024240</td>\n",
              "    </tr>\n",
              "    <tr>\n",
              "      <th>temperature_min</th>\n",
              "      <td>-0.022872</td>\n",
              "    </tr>\n",
              "    <tr>\n",
              "      <th>temperature_feels_like</th>\n",
              "      <td>-0.018739</td>\n",
              "    </tr>\n",
              "    <tr>\n",
              "      <th>uniform</th>\n",
              "      <td>0.010966</td>\n",
              "    </tr>\n",
              "    <tr>\n",
              "      <th>normal</th>\n",
              "      <td>0.006703</td>\n",
              "    </tr>\n",
              "    <tr>\n",
              "      <th>NaiveBayes</th>\n",
              "      <td>0.113718</td>\n",
              "    </tr>\n",
              "  </tbody>\n",
              "</table>\n",
              "</div>"
            ],
            "text/plain": [
              "                        correlation\n",
              "temperature_max           -0.024240\n",
              "temperature_min           -0.022872\n",
              "temperature_feels_like    -0.018739\n",
              "uniform                    0.010966\n",
              "normal                     0.006703\n",
              "NaiveBayes                 0.113718"
            ]
          },
          "metadata": {
            "tags": []
          }
        },
        {
          "output_type": "execute_result",
          "data": {
            "text/plain": [
              "Text(0.5, 1.0, 'correlation with S&P500 Return')"
            ]
          },
          "metadata": {
            "tags": []
          },
          "execution_count": 26
        },
        {
          "output_type": "display_data",
          "data": {
            "image/png": "[encoded data removed]",
            "text/plain": [
              "<Figure size 864x288 with 1 Axes>"
            ]
          },
          "metadata": {
            "tags": [],
            "needs_background": "light"
          }
        }
      ]
    }
  ]
}